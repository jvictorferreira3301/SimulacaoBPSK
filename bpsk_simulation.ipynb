{
 "cells": [
  {
   "cell_type": "markdown",
   "metadata": {},
   "source": [
    "<a target=\"_blank\" href=\"https://colab.research.google.com/github/jvictorferreira3301/SimulacaoBPSK/blob/main/bpsk_simulation.ipynb\">\n",
    "  <img src=\"https://colab.research.google.com/assets/colab-badge.svg\" alt=\"Open In Colab\"/>\n",
    "</a>"
   ]
  },
  {
   "cell_type": "markdown",
   "metadata": {},
   "source": [
    "**Faculdade de Engenharia da Computação e Telecomunicações - Universidade Federal do Pará**\n",
    "\n",
    "**Professor**: Lamartine Vilar de Souza\n",
    "\n",
    "**Aluno**: Joao Victor Santos Brito Ferreira\n",
    "\n",
    "# Trabalho de Teoria das Comunicações – Simulação de uma Modulação Digital (versão 4.2024)\n",
    "\n",
    "Simulação (usando a linguagem python) de uma modulação digital (exceto ASK) mostrando o\n",
    "comportamento da modulação de um sinal digital arbitrário frente a 4 diferentes potências de\n",
    "ruido AWGN (0 mW, 10 mW, 50 mW e 300 mW). A simulação deve mostrar, graficamente, o\n",
    "comportamento do sinal demodulado depois de sofrer o impacto do ruído. A simulação deve\n",
    "mostrar ainda, graficamente, o impacto dos 4 níveis de ruído anteriores na BER (Taxa de Erro de\n",
    "Bit) do sistema, ou seja, um gráfico BER x potências do ruído deve ser apresentado. A BER deve\n",
    "ser apresentada em função do valor de 10-6. O trabalho deve apresentar uma breve discussão sobre\n",
    "os resultados obtidos."
   ]
  },
  {
   "cell_type": "code",
   "execution_count": 1,
   "metadata": {},
   "outputs": [],
   "source": [
    "import numpy as np\n",
    "import matplotlib.pyplot as plt\n",
    "from scipy import signal\n",
    "import ipywidgets as widgets\n",
    "from IPython.display import display"
   ]
  },
  {
   "cell_type": "code",
   "execution_count": 2,
   "metadata": {},
   "outputs": [],
   "source": [
    "def stringToBinaryASCII(input: str) -> str:\n",
    "    \"\"\"\n",
    "    Converte uma string em sua representação binária ASCII.\n",
    "\n",
    "    Args:\n",
    "        input (str): A string a ser convertida.\n",
    "\n",
    "    Returns:\n",
    "        str: A representação binária ASCII da string.\n",
    "    \"\"\"\n",
    "    binaryRes = ' '.join(format(ord(char), '08b') for char in input)\n",
    "    return binaryRes\n",
    "\n",
    "def binaryASCIItoString(binary_string: str) -> str:\n",
    "    \"\"\"\n",
    "    Converte uma string binária ASCII de volta para uma string de caracteres.\n",
    "\n",
    "    Args:\n",
    "        binary_string (str): A string binária ASCII a ser convertida.\n",
    "\n",
    "    Returns:\n",
    "        str: A string de caracteres correspondente.\n",
    "    \"\"\"\n",
    "    binaryValues = binary_string.split(' ')\n",
    "    asciiChars = [chr(int(binary, 2)) for binary in binaryValues]\n",
    "    return ''.join(asciiChars)\n"
   ]
  },
  {
   "cell_type": "markdown",
   "metadata": {},
   "source": [
    "## $I$. Simulação de Modulação Digital (BPSK)\n",
    "\n",
    "- A função `bpsk_transmission` é chamada com diferentes potências de ruído (0 mW, 10 mW, 50 mW, 300 mW)\n"
   ]
  },
  {
   "cell_type": "markdown",
   "metadata": {},
   "source": [
    "<figure style=\"text-align: center;\">\n",
    "        <img src=\"./assets/tc.png\" width=\"auto\" height=\"auto\" tyle=\"display: flex; margin:10px\">\n",
    "        <figcaption>Fig. 1 -Topologia BPSK.</figcaption>\n",
    "    </figure>"
   ]
  },
  {
   "cell_type": "code",
   "execution_count": 3,
   "metadata": {},
   "outputs": [],
   "source": [
    "def bpsk_transmission(noisePower: float) -> tuple:\n",
    "    \"\"\"\n",
    "    Realiza a transmissão e demodulação BPSK com uma dada potência de ruído.\n",
    "\n",
    "    Args:\n",
    "        noisePower (float): A potência do ruído em mW.\n",
    "\n",
    "    Returns:\n",
    "        tuple: Contém os sinais de entrada, portadora, sinal BPSK modulado, sinal BPSK com ruído,\n",
    "               sinal demodulado, bits demodulados e a BER.\n",
    "    \"\"\"\n",
    "    noise = np.sqrt(noisePower) * np.random.randn(N)\n",
    "    \n",
    "    txSignalToModulation = (np.tile(txSignal*2-1, (1, Ns))).ravel()\n",
    "    carrier = np.sin(2 * np.pi * f0 * t)\n",
    "    bpskSignal = txSignalToModulation * carrier\n",
    "    bpskSignalNoise = bpskSignal + noise\n",
    "\n",
    "    # Demodulação\n",
    "    receivedSignal = bpskSignalNoise * carrier\n",
    "    b, a = signal.butter(5, 2*f0/fs)\n",
    "    demodulatedSignal = signal.lfilter(b, a, receivedSignal)\n",
    "    demodulatedBits = demodulatedSignal.reshape((Nbits, Ns)).mean(axis=1) > 0\n",
    "    demodulatedBits = demodulatedBits * 2 - 1  # Converte de volta para -1 e 1\n",
    "\n",
    "    # Calcula BER\n",
    "    txBits = txSignal.ravel() * 2 - 1\n",
    "    ber = np.sum(txBits != demodulatedBits) / Nbits\n",
    "\n",
    "    return txSignalToModulation, carrier, bpskSignal, bpskSignalNoise, demodulatedSignal, demodulatedBits, ber"
   ]
  },
  {
   "cell_type": "markdown",
   "metadata": {},
   "source": [
    "## $II$. Gráficos do Comportamento do Sinal Demodulado\n",
    "\n",
    "- A função `simulate_bpsk` gera gráficos que mostram o sinal da portadora, o sinal de entrada, o sinal BPSK modulado, o sinal BPSK recebido com ruído, o sinal demodulado com filtro passa-baixa (LPF) e os bits demodulados com LPF.\n"
   ]
  },
  {
   "cell_type": "code",
   "execution_count": 4,
   "metadata": {},
   "outputs": [],
   "source": [
    "def simulate_bpsk(noisePower: float) -> None:\n",
    "    \"\"\"\n",
    "    Simula a modulação BPSK com uma dada potência de ruído e plota os sinais relevantes.\n",
    "\n",
    "    Args:\n",
    "        noisePower (float): A potência do ruído em mW.\n",
    "    \"\"\"\n",
    "    txSignalToModulation, carrier, bpskSignal, bpskSignalNoise, demodulatedSignal, demodulatedBits, ber = bpsk_transmission(noisePower)\n",
    "\n",
    "    # Converte bits demodulados de volta para string ASCII\n",
    "    demodulatedBitsString = ''.join(['1' if bit == 1 else '0' for bit in demodulatedBits])\n",
    "    demodulatedMessage = binaryASCIItoString(' '.join([demodulatedBitsString[i:i+8] for i in range(0, len(demodulatedBitsString), 8)]))\n",
    "    print(\"Mensagem demodulada: \", demodulatedMessage)\n",
    "    print(f\"BER: {ber}\")\n",
    "\n",
    "    # Plots of BPSK\n",
    "    fig, axis = plt.subplots(6, 1, figsize=(10, 15))\n",
    "    fig.suptitle(f'BPSK Modulation with Noise Power {noisePower} mW', fontsize=12)\n",
    "\n",
    "    axis[0].plot(t, carrier, color='C2')\n",
    "    axis[0].set_title('Carrier Signal')\n",
    "    axis[0].set_xlabel('Time')\n",
    "    axis[0].set_xlim(0, timeDomainVisibleLimit)\n",
    "    axis[0].set_ylabel('Amplitude')\n",
    "    axis[0].grid(linestyle='dotted')\n",
    "\n",
    "    axis[1].plot(t, txSignalToModulation, color='C1')\n",
    "    axis[1].set_title('Input Signal')\n",
    "    axis[1].set_xlabel('Time')\n",
    "    axis[1].set_xlim(0, timeDomainVisibleLimit)\n",
    "    axis[1].set_ylabel('Amplitude')\n",
    "    axis[1].grid(linestyle='dotted')\n",
    "\n",
    "    axis[2].plot(t, bpskSignal, color='C3')\n",
    "    axis[2].set_title('BPSK Modulated Signal')\n",
    "    axis[2].set_xlabel('Time')\n",
    "    axis[2].set_xlim(0, timeDomainVisibleLimit)\n",
    "    axis[2].set_ylabel('Amplitude')\n",
    "    axis[2].grid(linestyle='dotted')\n",
    "\n",
    "    axis[3].plot(t, bpskSignalNoise, color='C4')\n",
    "    axis[3].set_title('Received BPSK Signal with Noise')\n",
    "    axis[3].set_xlabel('Time')\n",
    "    axis[3].set_xlim(0, timeDomainVisibleLimit)\n",
    "    axis[3].set_ylabel('Amplitude')\n",
    "    axis[3].grid(linestyle='dotted')\n",
    "\n",
    "    axis[4].plot(t, demodulatedSignal, color='C5')\n",
    "    axis[4].set_title('Demodulated Signal with LPF')\n",
    "    axis[4].set_xlabel('Time')\n",
    "    axis[4].set_xlim(0, timeDomainVisibleLimit)\n",
    "    axis[4].set_ylabel('Amplitude')\n",
    "    axis[4].grid(linestyle='dotted')\n",
    "\n",
    "    demodulatedBitsTime = np.repeat(demodulatedBits, Ns)\n",
    "    axis[5].plot(t, demodulatedBitsTime, color='C6')\n",
    "    axis[5].set_title('Demodulated Bits with LPF')\n",
    "    axis[5].set_xlabel('Time')\n",
    "    axis[5].set_xlim(0, timeDomainVisibleLimit)\n",
    "    axis[5].set_ylabel('Amplitude')\n",
    "    axis[5].grid(linestyle='dotted')\n",
    "\n",
    "    plt.subplots_adjust(hspace=1)\n",
    "    plt.show()"
   ]
  },
  {
   "cell_type": "markdown",
   "metadata": {},
   "source": [
    "## $III$. Gráfico BER x Potências do Ruído\n",
    "\n",
    "- A função `plot_ber_vs_noise` calcula a BER para diferentes níveis de potência do ruído e plota o gráfico da BER em função da potência do ruído.\n",
    "\n",
    "- A escala do eixo y no gráfico BER x Potências do Ruído é logarítmica, permitindo visualizar a BER em função de 10^-6."
   ]
  },
  {
   "cell_type": "code",
   "execution_count": 5,
   "metadata": {},
   "outputs": [],
   "source": [
    "def plot_ber_vs_noise() -> None:\n",
    "    \"\"\"\n",
    "    Calcula e plota a BER em função da potência do ruído para diferentes níveis de ruído.\n",
    "    \"\"\"\n",
    "    noise_powers = [0, 10, 50, 300]\n",
    "    bers = []\n",
    "\n",
    "    for noisePower in noise_powers:\n",
    "        _, _, _, _, _, _, ber = bpsk_transmission(noisePower)\n",
    "        bers.append(ber)\n",
    "\n",
    "    # Plot BER vs Noise Power\n",
    "    plt.figure(figsize=(10, 6))\n",
    "    plt.plot(noise_powers, bers, marker='o')\n",
    "    plt.yscale('log')\n",
    "    plt.title('BER vs Noise Power')\n",
    "    plt.xlabel('Noise Power (mW)')\n",
    "    plt.ylabel('BER')\n",
    "    plt.grid(True, which='both', linestyle='--', linewidth=0.5)\n",
    "    plt.show()\n",
    "\n",
    "# Cria um widget para selecionar o nível de ruído\n",
    "noise_power_widget = widgets.SelectionSlider(\n",
    "    options=[0, 10, 50, 300],\n",
    "    value=10,\n",
    "    description='Noise Power (mW):',\n",
    "    disabled=False,\n",
    "    continuous_update=False,\n",
    "    orientation='horizontal',\n",
    "    readout=True\n",
    ")"
   ]
  },
  {
   "cell_type": "markdown",
   "metadata": {},
   "source": [
    "## $IV$. Simulação\n"
   ]
  },
  {
   "cell_type": "code",
   "execution_count": 6,
   "metadata": {},
   "outputs": [
    {
     "name": "stdout",
     "output_type": "stream",
     "text": [
      "Mensagem digitada:  telecom sucks\n",
      "Mensagem a ser transmitida:  01110100 01100101 01101100 01100101 01100011 01101111 01101101 00100000 01110011 01110101 01100011 01101011 01110011\n"
     ]
    }
   ],
   "source": [
    "# Solicita a mensagem de texto do usuário\n",
    "txMessage = input(\"Digite a mensagem a ser transmitida: \")\n",
    "\n",
    "# Converte a mensagem para binário ASCII\n",
    "txSignal = stringToBinaryASCII(txMessage)\n",
    "print(\"Mensagem digitada: \", txMessage)\n",
    "print(\"Mensagem a ser transmitida: \", txSignal)\n",
    "txSignal = [*txSignal.replace(' ', '')]\n",
    "txSignal = [int(x) for x in txSignal]\n",
    "txSignal = np.array(txSignal)[:, None]\n",
    "\n",
    "# Define parâmetros\n",
    "fs = 44100  # taxa de amostragem\n",
    "baud = 900  # taxa de símbolos\n",
    "Nbits = len(txSignal)   # número de bits\n",
    "f0 = 1800   # frequência da portadora\n",
    "Ns = int(fs/baud)   # número de amostras por símbolo\n",
    "N = Nbits * Ns  # número total de amostras\n",
    "t = np.r_[0.0:N]/fs # pontos de tempo\n",
    "f = np.r_[0:N/2.0]/N*fs # pontos de frequência\n",
    "\n",
    "# Limite para representação de sinais no domínio do tempo para melhor visibilidade\n",
    "symbolsToShow = 20\n",
    "timeDomainVisibleLimit = np.minimum(Nbits/baud, symbolsToShow/baud)"
   ]
  },
  {
   "cell_type": "code",
   "execution_count": 7,
   "metadata": {},
   "outputs": [
    {
     "data": {
      "application/vnd.jupyter.widget-view+json": {
       "model_id": "21b02b236b854fcda2f5b974fd707b1d",
       "version_major": 2,
       "version_minor": 0
      },
      "text/plain": [
       "SelectionSlider(continuous_update=False, description='Noise Power (mW):', index=1, options=(0, 10, 50, 300), v…"
      ]
     },
     "metadata": {},
     "output_type": "display_data"
    },
    {
     "data": {
      "application/vnd.jupyter.widget-view+json": {
       "model_id": "222fdbaae65f4510a8a43d13d9c53f94",
       "version_major": 2,
       "version_minor": 0
      },
      "text/plain": [
       "Output()"
      ]
     },
     "metadata": {},
     "output_type": "display_data"
    }
   ],
   "source": [
    "# Conecta o widget à função de simulação\n",
    "output = widgets.interactive_output(simulate_bpsk, {'noisePower': noise_power_widget})\n",
    "display(noise_power_widget, output)"
   ]
  },
  {
   "cell_type": "code",
   "execution_count": 10,
   "metadata": {},
   "outputs": [
    {
     "data": {
      "image/png": "[encoded data removed]",
      "text/plain": [
       "<Figure size 1000x600 with 1 Axes>"
      ]
     },
     "metadata": {},
     "output_type": "display_data"
    }
   ],
   "source": [
    "# Plota BER vs Noise Power\n",
    "plot_ber_vs_noise()"
   ]
  },
  {
   "cell_type": "markdown",
   "metadata": {},
   "source": [
    "## $V$. Conclusão\n",
    "\n",
    "A simulação da modulação BPSK realizada neste notebook demonstrou de forma clara e gráfica o impacto de diferentes níveis de ruído AWGN no sinal demodulado e na taxa de erro de bit (BER) do sistema. Observamos que, à medida que a potência do ruído aumenta, a qualidade do sinal demodulado diminui, resultando em uma maior BER. Este comportamento é esperado, pois o ruído interfere na capacidade do receptor de distinguir entre os diferentes estados do sinal modulado.\n",
    "\n",
    "Os gráficos gerados mostraram visualmente como o sinal BPSK é afetado pelo ruído, desde a modulação até a demodulação, e como a BER varia com diferentes potências de ruído. A análise dos resultados confirma a teoria de que a presença de ruído degrada a performance do sistema de comunicação, aumentando a taxa de erro de bit.\n"
   ]
  },
  {
   "cell_type": "markdown",
   "metadata": {},
   "source": [
    "## Referências\n",
    "\n",
    "MAUÉS JR., M. A. E. S.; FERREIRA, J. B.; TAVARES, K. M.; RENDEIRO, P.; GONÇALVES, G. E.; KLAUTAU, A.; RAMALHO, L. Development of a MIMO System for Education in Digital Communications: A CDIO Approach. In: XLII Simpósio Brasileiro de Telecomunicações e Processamento de Sinais (SBrT2024), 2024. DOI: 10.14209/sbrt.2024.1571036465."
   ]
  }
 ],
 "metadata": {
  "kernelspec": {
   "display_name": "base",
   "language": "python",
   "name": "python3"
  },
  "language_info": {
   "codemirror_mode": {
    "name": "ipython",
    "version": 3
   },
   "file_extension": ".py",
   "mimetype": "text/x-python",
   "name": "python",
   "nbconvert_exporter": "python",
   "pygments_lexer": "ipython3",
   "version": "3.12.4"
  }
 },
 "nbformat": 4,
 "nbformat_minor": 2
}
